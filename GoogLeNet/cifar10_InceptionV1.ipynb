{
 "cells": [
  {
   "cell_type": "code",
   "execution_count": null,
   "metadata": {},
   "outputs": [],
   "source": [
    "# Copyright (c) 2020 ZZH"
   ]
  },
  {
   "cell_type": "code",
   "execution_count": null,
   "metadata": {},
   "outputs": [],
   "source": [
    "# simplified : replace the stem structure with one convolutional layer, channels are divided by 4"
   ]
  },
  {
   "cell_type": "code",
   "execution_count": null,
   "metadata": {},
   "outputs": [],
   "source": [
    "import tensorflow as tf\n",
    "from matplotlib import pyplot as plt\n",
    "from tensorflow.keras.layers import Conv2D, BatchNormalization, Activation, AveragePooling2D, MaxPool2D\n",
    "from tensorflow.keras.layers import GlobalAveragePooling2D, Dropout, Flatten, Dense\n",
    "from tensorflow.keras import Model\n",
    "import os\n",
    "import numpy as np"
   ]
  },
  {
   "cell_type": "code",
   "execution_count": null,
   "metadata": {},
   "outputs": [],
   "source": [
    "gpus = tf.config.experimental.list_physical_devices(device_type='GPU')\n",
    "print(gpus)\n",
    "for gpu in gpus:\n",
    "    tf.config.experimental.set_memory_growth(gpu, True)"
   ]
  },
  {
   "cell_type": "code",
   "execution_count": null,
   "metadata": {},
   "outputs": [],
   "source": [
    "epochs = 100\n",
    "lr = 0.1\n",
    "batch_size = 128\n",
    "REGULARIZER  = 0.0005\n",
    "checkpoint_save_path =  './Model/InceptionV1/'\n",
    "log_dir = os.path.join(\"Model\",\"InceptionV1_logs\")"
   ]
  },
  {
   "cell_type": "code",
   "execution_count": null,
   "metadata": {},
   "outputs": [],
   "source": [
    "#数据导入及数据增强\n",
    "cifar10 = tf.keras.datasets.cifar10\n",
    "(x_train,y_train),(x_test,y_test) = cifar10.load_data()\n",
    "x_train = x_train.astype('float32')\n",
    "x_test = x_test.astype('float32')\n",
    "mean = [125.307, 122.95, 113.865]  #np.mean()\n",
    "std = [62.9932, 62.0887, 66.7048]  #np.std()\n",
    "for i in range(3):\n",
    "    x_train[:,:,:,i] = (x_train[:,:,:,i] - mean[i]) / std[i]\n",
    "    x_test[:,:,:,i] = (x_test[:,:,:,i] - mean[i]) / std[i]\n",
    "DataGenTrain = tf.keras.preprocessing.image.ImageDataGenerator(\n",
    "               rotation_range = 15,\n",
    "               width_shift_range = 0.1,\n",
    "               height_shift_range = 0.1,\n",
    "               horizontal_flip = True,\n",
    "               vertical_flip = False,\n",
    "               shear_range=0.1,\n",
    "               zoom_range = 0.1)\n",
    "DataGenTrain.fit(x_train)"
   ]
  },
  {
   "cell_type": "code",
   "execution_count": null,
   "metadata": {},
   "outputs": [],
   "source": [
    "def scheduler(epoch):\n",
    "    if epoch < 40:\n",
    "        return 0.1\n",
    "    if epoch < 60:\n",
    "        return 0.05\n",
    "    if epoch < 85:    \n",
    "        return 0.01\n",
    "    return 0.002"
   ]
  },
  {
   "cell_type": "code",
   "execution_count": null,
   "metadata": {},
   "outputs": [],
   "source": [
    "class ConvBNRelu(Model):\n",
    "    def __init__(self,channels,kernel_size,strides,padding):\n",
    "        super(ConvBNRelu,self).__init__()\n",
    "        self.model = tf.keras.models.Sequential([\n",
    "                    Conv2D(filters=channels, kernel_size=kernel_size,strides=strides, padding=padding,\n",
    "                           kernel_initializer=\"he_normal\",kernel_regularizer=tf.keras.regularizers.l2(REGULARIZER)),\n",
    "                    BatchNormalization(momentum=0.9),\n",
    "                    Activation('relu') ])\n",
    "    def call(self,inputs):\n",
    "        outputs = self.model(inputs)\n",
    "        return outputs"
   ]
  },
  {
   "cell_type": "code",
   "execution_count": null,
   "metadata": {},
   "outputs": [],
   "source": [
    "class InceptionBlk(Model):\n",
    "    def __init__(self,channels_1,channels_2_1,channels_2_2,channels_3_1,channels_3_2,channels_4,strides):\n",
    "        super(InceptionBlk,self).__init__()            \n",
    "        self.c1 = ConvBNRelu(channels=channels_1,kernel_size=1,strides=strides, padding='same')\n",
    "        self.c2_1 = ConvBNRelu(channels=channels_2_1,kernel_size=1,strides=strides, padding='same')\n",
    "        self.c2_2 = ConvBNRelu(channels=channels_2_2,kernel_size=3,strides=1, padding='same')\n",
    "        self.c3_1 = ConvBNRelu(channels=channels_3_1,kernel_size=1,strides=strides, padding='same')\n",
    "        self.c3_2 = ConvBNRelu(channels=channels_3_2,kernel_size=5,strides=1, padding='same')\n",
    "        self.p4_1 = MaxPool2D(pool_size=3,strides=1, padding='same')\n",
    "        self.c4_2 = ConvBNRelu(channels=channels_4,kernel_size=1,strides=strides, padding='same')\n",
    "    def call(self,x):\n",
    "        x1 = self.c1(x)\n",
    "        x2_1 = self.c2_1(x)\n",
    "        x2_2 = self.c2_2(x2_1)\n",
    "        x3_1 = self.c3_1(x)\n",
    "        x3_2 = self.c3_2(x3_1)\n",
    "        x4_1 = self.p4_1(x)\n",
    "        x4_2 = self.c4_2(x4_1)\n",
    "        x = tf.concat([x1,x2_2,x3_2,x4_2], axis = -1)\n",
    "        return x"
   ]
  },
  {
   "cell_type": "code",
   "execution_count": null,
   "metadata": {},
   "outputs": [],
   "source": [
    "#网络搭建及训练\n",
    "class InceptionV1(Model):\n",
    "    def __init__(self):\n",
    "        super(InceptionV1,self).__init__()\n",
    "        self.c1 = ConvBNRelu(channels=32,kernel_size=3,strides=1, padding='same')\n",
    "        self.blocks = tf.keras.models.Sequential()\n",
    "        self.blocks.add(InceptionBlk(channels_1=16,channels_2_1=24,channels_2_2=32,channels_3_1=4,channels_3_2=8,channels_4=8,strides=1))\n",
    "        self.blocks.add(InceptionBlk(channels_1=32,channels_2_1=32,channels_2_2=48,channels_3_1=8,channels_3_2=16,channels_4=16,strides=1))\n",
    "        self.blocks.add(MaxPool2D(pool_size=3,strides=2, padding='same'))\n",
    "        self.blocks.add(InceptionBlk(channels_1=48,channels_2_1=24,channels_2_2=52,channels_3_1=4,channels_3_2=12,channels_4=16,strides=1))\n",
    "        self.blocks.add(InceptionBlk(channels_1=40,channels_2_1=28,channels_2_2=56,channels_3_1=6,channels_3_2=16,channels_4=16,strides=1))\n",
    "        self.blocks.add(InceptionBlk(channels_1=32,channels_2_1=32,channels_2_2=64,channels_3_1=6,channels_3_2=16,channels_4=16,strides=1))\n",
    "        self.blocks.add(InceptionBlk(channels_1=28,channels_2_1=36,channels_2_2=72,channels_3_1=8,channels_3_2=16,channels_4=16,strides=1))\n",
    "        self.blocks.add(InceptionBlk(channels_1=64,channels_2_1=40,channels_2_2=80,channels_3_1=8,channels_3_2=32,channels_4=32,strides=1))\n",
    "        self.blocks.add(MaxPool2D(pool_size=3,strides=2, padding='same'))\n",
    "        self.blocks.add(InceptionBlk(channels_1=64,channels_2_1=40,channels_2_2=80,channels_3_1=8,channels_3_2=32,channels_4=32,strides=1))\n",
    "        self.blocks.add(InceptionBlk(channels_1=96,channels_2_1=48,channels_2_2=96,channels_3_1=12,channels_3_2=32,channels_4=32,strides=1))\n",
    "        self.p1 = GlobalAveragePooling2D()\n",
    "        self.d1 = Dropout(0.4)\n",
    "        self.f1 = Dense(10,activation='softmax',kernel_regularizer=tf.keras.regularizers.l2(REGULARIZER))  \n",
    "    def call(self,x):\n",
    "        x = self.c1(x)\n",
    "        x = self.blocks(x)\n",
    "        x = self.p1(x)\n",
    "        x = self.d1(x)\n",
    "        y = self.f1(x)\n",
    "        return y"
   ]
  },
  {
   "cell_type": "code",
   "execution_count": null,
   "metadata": {
    "scrolled": true
   },
   "outputs": [],
   "source": [
    "model = InceptionV1()\n",
    "\n",
    "model.compile(optimizer=tf.keras.optimizers.SGD(learning_rate=lr, momentum=0.9, nesterov=True),\n",
    "             loss='sparse_categorical_crossentropy',\n",
    "             metrics=['accuracy'])\n",
    "\n",
    "callbacks = [\n",
    "            tf.keras.callbacks.LearningRateScheduler(scheduler),\n",
    "            tf.keras.callbacks.ModelCheckpoint(     #模型保存\n",
    "                filepath = checkpoint_save_path,\n",
    "                save_weights_only = False,\n",
    "                monitor = 'val_accuracy',\n",
    "                save_best_only = True),\n",
    "#             tf.keras.callbacks.EarlyStopping(       #早停\n",
    "#                 monitor = 'val_accuracy',\n",
    "#                 patience=15, \n",
    "#                 baseline=None),\n",
    "            tf.keras.callbacks.TensorBoard(log_dir=log_dir, histogram_freq=1, write_graph=True, write_images=False)  #保存计算图\n",
    "]\n",
    "\n",
    "hist = model.fit(DataGenTrain.flow(x_train,y_train,batch_size=batch_size,shuffle=True),\n",
    "                 epochs=epochs,\n",
    "                 validation_data=(x_test,y_test),\n",
    "                 validation_freq=1,\n",
    "                 callbacks=callbacks)\n",
    "\n",
    "model.summary()"
   ]
  },
  {
   "cell_type": "code",
   "execution_count": null,
   "metadata": {},
   "outputs": [],
   "source": [
    "#结果可视化\n",
    "%matplotlib inline\n",
    "%config InlineBackend.figure_format = 'svg'\n",
    "plt.style.use({'figure.figsize':(6,4)})\n",
    "\n",
    "plt.plot(hist.history['loss'], label='loss')\n",
    "plt.plot(hist.history['val_loss'], label='val_loss')\n",
    "plt.legend()\n",
    "plt.show()\n",
    "plt.plot(hist.history['val_accuracy'], label='val_accuracy')\n",
    "plt.legend()\n",
    "plt.show()"
   ]
  },
  {
   "cell_type": "code",
   "execution_count": null,
   "metadata": {},
   "outputs": [],
   "source": [
    "print('best result: {:.2f}%  ({}epochs)'.format(100*max(hist.history['val_accuracy']),1+hist.history['val_accuracy'].index(max(hist.history['val_accuracy']))))\n",
    "# best result: 93.02%  (93epoch)"
   ]
  },
  {
   "cell_type": "code",
   "execution_count": null,
   "metadata": {},
   "outputs": [],
   "source": [
    "#tensorboard可视化\n",
    "#!tensorboard --logdir=./Model/InceptionV1_logs\n",
    "#http://localhost:6006/"
   ]
  }
 ],
 "metadata": {
  "kernelspec": {
   "display_name": "Python 3",
   "language": "python",
   "name": "python3"
  },
  "language_info": {
   "codemirror_mode": {
    "name": "ipython",
    "version": 3
   },
   "file_extension": ".py",
   "mimetype": "text/x-python",
   "name": "python",
   "nbconvert_exporter": "python",
   "pygments_lexer": "ipython3",
   "version": "3.7.6"
  }
 },
 "nbformat": 4,
 "nbformat_minor": 4
}
