{
 "cells": [
  {
   "cell_type": "code",
   "execution_count": null,
   "metadata": {},
   "outputs": [],
   "source": [
    "# Copyright (c) 2020 ZZH"
   ]
  },
  {
   "cell_type": "code",
   "execution_count": null,
   "metadata": {},
   "outputs": [],
   "source": [
    "import tensorflow as tf\n",
    "from matplotlib import pyplot as plt\n",
    "from tensorflow.keras.layers import Conv2D, BatchNormalization, Activation, AveragePooling2D, MaxPool2D\n",
    "from tensorflow.keras.layers import GlobalAveragePooling2D, Dropout, Flatten, Dense, DepthwiseConv2D\n",
    "from tensorflow.keras.models import Sequential\n",
    "from tensorflow.keras.initializers import VarianceScaling\n",
    "from tensorflow.keras import Model\n",
    "import os\n",
    "import numpy as np\n",
    "import math"
   ]
  },
  {
   "cell_type": "code",
   "execution_count": null,
   "metadata": {},
   "outputs": [],
   "source": [
    "gpus = tf.config.experimental.list_physical_devices(device_type='GPU')\n",
    "print(gpus)\n",
    "for gpu in gpus:\n",
    "    tf.config.experimental.set_memory_growth(gpu, True)"
   ]
  },
  {
   "cell_type": "code",
   "execution_count": null,
   "metadata": {},
   "outputs": [],
   "source": [
    "epochs = 100\n",
    "lr = 0.1\n",
    "batch_size = 128\n",
    "REGULARIZER  = 0.0001\n",
    "checkpoint_save_path =  './Model/EfficientNetB0/'\n",
    "log_dir = os.path.join(\"Model\",\"EfficientNetB0_logs\")"
   ]
  },
  {
   "cell_type": "code",
   "execution_count": null,
   "metadata": {},
   "outputs": [],
   "source": [
    "#数据导入及数据增强\n",
    "cifar10 = tf.keras.datasets.cifar10\n",
    "(x_train,y_train),(x_test,y_test) = cifar10.load_data()\n",
    "x_train = x_train.astype('float32')\n",
    "x_test = x_test.astype('float32')\n",
    "y_train = tf.keras.utils.to_categorical(y_train, num_classes=10)\n",
    "y_test = tf.keras.utils.to_categorical(y_test, num_classes=10)\n",
    "mean = [125.307, 122.95, 113.865]  #np.mean()\n",
    "std = [62.9932, 62.0887, 66.7048]  #np.std()\n",
    "for i in range(3):\n",
    "    x_train[:,:,:,i] = (x_train[:,:,:,i] - mean[i]) / std[i]\n",
    "    x_test[:,:,:,i] = (x_test[:,:,:,i] - mean[i]) / std[i]\n",
    "\n",
    "DataGenTrain = tf.keras.preprocessing.image.ImageDataGenerator(\n",
    "               rotation_range = 15,\n",
    "               width_shift_range = 0.1,\n",
    "               height_shift_range = 0.1,\n",
    "               horizontal_flip = True,\n",
    "               vertical_flip = False,\n",
    "               shear_range=0.1,\n",
    "               zoom_range = 0.1)\n",
    "DataGenTrain.fit(x_train)"
   ]
  },
  {
   "cell_type": "code",
   "execution_count": null,
   "metadata": {},
   "outputs": [],
   "source": [
    "def scheduler(epoch):  #HTD(-6,3) with WarmingUp\n",
    "    start = -6.0\n",
    "    end = 3.0\n",
    "    if epoch < 5:\n",
    "        return 0.02 * epoch + 0.02\n",
    "    return lr / 2.0 * (1 - math.tanh((end - start) * epoch / epochs + start))"
   ]
  },
  {
   "cell_type": "code",
   "execution_count": null,
   "metadata": {},
   "outputs": [],
   "source": [
    "def swish(x):\n",
    "    return tf.nn.swish(x)"
   ]
  },
  {
   "cell_type": "code",
   "execution_count": null,
   "metadata": {},
   "outputs": [],
   "source": [
    "def conv_init():\n",
    "    return VarianceScaling(scale=2.,\n",
    "                           mode='fan_out',\n",
    "                           distribution='normal',\n",
    "                           seed=None)"
   ]
  },
  {
   "cell_type": "code",
   "execution_count": null,
   "metadata": {},
   "outputs": [],
   "source": [
    "def dense_init():\n",
    "    return VarianceScaling(scale=1./3.,\n",
    "                           mode='fan_out',\n",
    "                           distribution='uniform',\n",
    "                           seed=None)"
   ]
  },
  {
   "cell_type": "code",
   "execution_count": null,
   "metadata": {
    "code_folding": []
   },
   "outputs": [],
   "source": [
    "class SEBlock(Model):\n",
    "    def __init__(self,channels,se_ratio):\n",
    "        super(SEBlock,self).__init__()\n",
    "        self.channels = channels\n",
    "        self.p1 = GlobalAveragePooling2D()\n",
    "        self.d1 = Dense(channels//se_ratio,activation=None,kernel_initializer=conv_init(),use_bias=False,\n",
    "                        kernel_regularizer=tf.keras.regularizers.l2(REGULARIZER))\n",
    "        self.d2 = Dense(channels,activation='sigmoid',kernel_initializer=conv_init(),use_bias=False,\n",
    "                        kernel_regularizer=tf.keras.regularizers.l2(REGULARIZER))\n",
    "        self.m1 = tf.keras.layers.Multiply()\n",
    "    def call(self,inputs):\n",
    "        x = self.p1(inputs)\n",
    "        x = self.d1(x)\n",
    "        x = swish(x)\n",
    "        y = self.d2(x)\n",
    "        y = tf.reshape(y, [-1,1,1,self.channels])\n",
    "        outputs = self.m1([inputs,y])\n",
    "        return outputs"
   ]
  },
  {
   "cell_type": "code",
   "execution_count": null,
   "metadata": {},
   "outputs": [],
   "source": [
    "class MBConvBlock(Model):\n",
    "    def __init__(self,channels,kernel_size,strides,expand_ratio,dropout_rate,skip):\n",
    "        super(MBConvBlock,self).__init__()\n",
    "        self.se_ratio = 4\n",
    "        self.expand_ratio = expand_ratio\n",
    "        self.dropout_rate = dropout_rate\n",
    "        self.strides = strides\n",
    "        self.skip = skip\n",
    "        self.c1 = Conv2D(filters=channels*expand_ratio, kernel_size=1, strides=1, padding='same',use_bias=False,\n",
    "                         kernel_initializer=conv_init(),kernel_regularizer=tf.keras.regularizers.l2(REGULARIZER))\n",
    "        self.b1 = BatchNormalization(momentum=0.9)  \n",
    "        self.c2 = DepthwiseConv2D(kernel_size=kernel_size, strides=1, padding='same', use_bias=False,\n",
    "                                  depthwise_initializer=conv_init(),depthwise_regularizer=tf.keras.regularizers.l2(REGULARIZER))\n",
    "        self.b2 = BatchNormalization(momentum=0.9)  \n",
    "        self.se = SEBlock(channels=channels*expand_ratio,se_ratio=self.se_ratio)\n",
    "        self.c3 = Conv2D(filters=channels, kernel_size=1, strides=1, padding='same', use_bias=False,\n",
    "                         kernel_initializer=conv_init(),kernel_regularizer=tf.keras.regularizers.l2(REGULARIZER))\n",
    "        self.b3 = BatchNormalization(momentum=0.9) \n",
    "        self.d1 = Dropout(self.dropout_rate)\n",
    "\n",
    "    def call(self,inputs):\n",
    "        x = self.c1(inputs)\n",
    "        x = self.b1(x)\n",
    "        x = swish(x)\n",
    "        x = self.c2(x)\n",
    "        x = self.b2(x)\n",
    "        x = swish(x)\n",
    "        x = self.se(x)\n",
    "        x = self.c3(x)\n",
    "        x = self.b3(x)\n",
    "        outputs = self.d1(x)\n",
    "        if self.skip :\n",
    "            outputs += inputs\n",
    "        return outputs"
   ]
  },
  {
   "cell_type": "code",
   "execution_count": null,
   "metadata": {},
   "outputs": [],
   "source": [
    "class EfficientNetB0(Model):\n",
    "    def __init__(self):\n",
    "        super(EfficientNetB0,self).__init__()\n",
    "        self.channels = [16,24,40,80,112,192,320]\n",
    "        self.kernel_size = [3,3,5,3,5,5,3]\n",
    "        self.strides = [1,2,2,2,1,2,1]\n",
    "        self.expand_ratio = [1,6,6,6,6,6,6]\n",
    "        self.layerNum = [1,2,2,3,3,4,1]\n",
    "        self.dropout_rate = 0.2\n",
    "        \n",
    "        self.c1 = Conv2D(filters=32, kernel_size=3, strides=1, padding='same', use_bias=False,\n",
    "                        kernel_initializer=conv_init(),kernel_regularizer=tf.keras.regularizers.l2(REGULARIZER))\n",
    "        self.b1 = BatchNormalization(momentum=0.9)\n",
    "        \n",
    "        self.block_num = 1\n",
    "        self.blocks = Sequential()\n",
    "        for i in range(len(self.layerNum)):\n",
    "            for j in range(self.layerNum[i]):\n",
    "                drop = self.dropout_rate * float(self.block_num) / sum(self.layerNum)\n",
    "                if j == 0:\n",
    "                    self.blocks.add(MBConvBlock(channels=self.channels[i],kernel_size=self.kernel_size[i],\n",
    "                                                strides=self.strides[i],expand_ratio=self.expand_ratio[i],\n",
    "                                                dropout_rate=drop,skip=False))\n",
    "                else:\n",
    "                    self.blocks.add(MBConvBlock(channels=self.channels[i],kernel_size=self.kernel_size[i],\n",
    "                                                strides=1,expand_ratio=self.expand_ratio[i],\n",
    "                                                dropout_rate=drop,skip=True))\n",
    "                self.block_num += 1\n",
    "                    \n",
    "        self.c2 = Conv2D(filters=1280, kernel_size=1, strides=1, padding='same', use_bias=False,\n",
    "                        kernel_initializer=conv_init(),kernel_regularizer=tf.keras.regularizers.l2(REGULARIZER))\n",
    "        self.b2 = BatchNormalization(momentum=0.9)\n",
    "        self.p1 = GlobalAveragePooling2D()\n",
    "        self.d1 = Dropout(self.dropout_rate)\n",
    "        self.f1 = Dense(10,activation='softmax',kernel_initializer=\"he_normal\",\n",
    "                        kernel_regularizer=tf.keras.regularizers.l2(REGULARIZER))\n",
    "    def call(self,inputs):\n",
    "        x = self.c1(inputs)\n",
    "        x = self.b1(x)\n",
    "        x = swish(x)\n",
    "        x = self.blocks(x)\n",
    "        x = self.c2(x)\n",
    "        x = self.b2(x)\n",
    "        x = swish(x)\n",
    "        x = self.p1(x)\n",
    "        x = self.d1(x)\n",
    "        y = self.f1(x)\n",
    "        return y"
   ]
  },
  {
   "cell_type": "code",
   "execution_count": null,
   "metadata": {
    "scrolled": true
   },
   "outputs": [],
   "source": [
    "model = EfficientNetB0()\n",
    "\n",
    "model.compile(optimizer=tf.keras.optimizers.SGD(learning_rate=lr, momentum=0.9, nesterov=True, clipnorm=2.),\n",
    "              loss=tf.keras.losses.CategoricalCrossentropy(label_smoothing=0.1),\n",
    "              metrics=['accuracy'])\n",
    "\n",
    "callbacks = [\n",
    "            tf.keras.callbacks.LearningRateScheduler(scheduler),  #学习率衰减表\n",
    "            #tf.keras.callbacks.ReduceLROnPlateau(monitor='val_accuracy', factor=0.1, min_lr=0.0001, patience=10, cooldown=0)\n",
    "            tf.keras.callbacks.ModelCheckpoint(     #模型保存\n",
    "                filepath = checkpoint_save_path,\n",
    "                save_weights_only = False,\n",
    "                monitor = 'val_accuracy',\n",
    "                save_best_only = True),\n",
    "#             tf.keras.callbacks.EarlyStopping(       #早停\n",
    "#                 monitor = 'val_accuracy',\n",
    "#                 patience=15, \n",
    "#                 baseline=None),\n",
    "            tf.keras.callbacks.TensorBoard(log_dir=log_dir, histogram_freq=1, write_graph=True, write_images=False)  #保存计算图\n",
    "]\n",
    "\n",
    "hist = model.fit(DataGenTrain.flow(x_train,y_train,batch_size=batch_size,shuffle=True),\n",
    "                 epochs=epochs,\n",
    "                 validation_data=(x_test,y_test),\n",
    "                 validation_freq=1,\n",
    "                 callbacks=callbacks)\n",
    "\n",
    "model.summary()"
   ]
  },
  {
   "cell_type": "code",
   "execution_count": null,
   "metadata": {},
   "outputs": [],
   "source": [
    "#结果可视化\n",
    "%matplotlib inline\n",
    "%config InlineBackend.figure_format = 'svg'\n",
    "plt.style.use({'figure.figsize':(6,4)})\n",
    "\n",
    "plt.plot(hist.history['loss'], label='loss')\n",
    "plt.plot(hist.history['val_loss'], label='val_loss')\n",
    "plt.legend()\n",
    "plt.show()\n",
    "plt.plot(hist.history['val_accuracy'], label='val_accuracy')\n",
    "plt.legend()\n",
    "plt.show()"
   ]
  },
  {
   "cell_type": "code",
   "execution_count": null,
   "metadata": {},
   "outputs": [],
   "source": [
    "model.save('./')"
   ]
  },
  {
   "cell_type": "code",
   "execution_count": null,
   "metadata": {},
   "outputs": [],
   "source": [
    "#tensorboard可视化\n",
    "#!tensorboard --logdir=./Model/EfficientNetB0_logs\n",
    "#http://localhost:6006/"
   ]
  },
  {
   "cell_type": "code",
   "execution_count": null,
   "metadata": {},
   "outputs": [],
   "source": [
    "print('best result: {:.2f}%  ({}epochs)'.format(100*max(hist.history['val_accuracy']),1+hist.history['val_accuracy'].index(max(hist.history['val_accuracy']))))\n",
    "# best result:"
   ]
  }
 ],
 "metadata": {
  "kernelspec": {
   "display_name": "Python 3",
   "language": "python",
   "name": "python3"
  },
  "language_info": {
   "codemirror_mode": {
    "name": "ipython",
    "version": 3
   },
   "file_extension": ".py",
   "mimetype": "text/x-python",
   "name": "python",
   "nbconvert_exporter": "python",
   "pygments_lexer": "ipython3",
   "version": "3.7.6"
  }
 },
 "nbformat": 4,
 "nbformat_minor": 4
}
