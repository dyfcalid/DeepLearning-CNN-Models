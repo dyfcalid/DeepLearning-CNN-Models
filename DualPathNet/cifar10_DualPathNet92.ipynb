{
 "cells": [
  {
   "cell_type": "code",
   "execution_count": null,
   "metadata": {},
   "outputs": [],
   "source": [
    "# Copyright (c) 2020 ZZH"
   ]
  },
  {
   "cell_type": "code",
   "execution_count": null,
   "metadata": {},
   "outputs": [],
   "source": [
    "import tensorflow as tf\n",
    "from matplotlib import pyplot as plt\n",
    "from tensorflow.keras.layers import Conv2D, BatchNormalization, Activation, AveragePooling2D, MaxPool2D\n",
    "from tensorflow.keras.layers import GlobalAveragePooling2D, GlobalMaxPool2D, Dropout, Flatten, Dense\n",
    "from tensorflow.keras.models import Sequential\n",
    "from tensorflow.keras import Model\n",
    "import os\n",
    "import numpy as np\n",
    "import math"
   ]
  },
  {
   "cell_type": "code",
   "execution_count": null,
   "metadata": {},
   "outputs": [],
   "source": [
    "gpus = tf.config.experimental.list_physical_devices(device_type='GPU')\n",
    "print(gpus)\n",
    "for gpu in gpus:\n",
    "    tf.config.experimental.set_memory_growth(gpu, True)"
   ]
  },
  {
   "cell_type": "code",
   "execution_count": null,
   "metadata": {},
   "outputs": [],
   "source": [
    "epochs = 100\n",
    "lr = 0.1\n",
    "batch_size = 128\n",
    "REGULARIZER  = 0.0001\n",
    "checkpoint_save_path =  './Model/DRN92/'\n",
    "log_dir = os.path.join(\"Model\",\"DRN92_logs\")"
   ]
  },
  {
   "cell_type": "code",
   "execution_count": null,
   "metadata": {},
   "outputs": [],
   "source": [
    "#数据导入及数据增强\n",
    "cifar10 = tf.keras.datasets.cifar10\n",
    "(x_train,y_train),(x_test,y_test) = cifar10.load_data()\n",
    "x_train = x_train.astype('float32')\n",
    "x_test = x_test.astype('float32')\n",
    "y_train = tf.keras.utils.to_categorical(y_train, num_classes=10)\n",
    "y_test = tf.keras.utils.to_categorical(y_test, num_classes=10)\n",
    "mean = [125.307, 122.95, 113.865]  #np.mean()\n",
    "std = [62.9932, 62.0887, 66.7048]  #np.std()\n",
    "for i in range(3):\n",
    "    x_train[:,:,:,i] = (x_train[:,:,:,i] - mean[i]) / std[i]\n",
    "    x_test[:,:,:,i] = (x_test[:,:,:,i] - mean[i]) / std[i]\n",
    "\n",
    "DataGenTrain = tf.keras.preprocessing.image.ImageDataGenerator(\n",
    "               rotation_range = 15,\n",
    "               width_shift_range = 0.125,\n",
    "               height_shift_range = 0.125,\n",
    "               horizontal_flip = True,\n",
    "               vertical_flip = False,\n",
    "               shear_range=0.125,\n",
    "               zoom_range = 0.125)\n",
    "DataGenTrain.fit(x_train)"
   ]
  },
  {
   "cell_type": "code",
   "execution_count": null,
   "metadata": {},
   "outputs": [],
   "source": [
    "def scheduler(epoch):  #HTD(-6,3) with WarmingUp\n",
    "    start = -6.0\n",
    "    end = 3.0\n",
    "    if epoch < 5:\n",
    "        return 0.02 * epoch + 0.02\n",
    "    return lr / 2.0 * (1- math.tanh( (end-start)*epoch/epochs + start))"
   ]
  },
  {
   "cell_type": "code",
   "execution_count": null,
   "metadata": {},
   "outputs": [],
   "source": [
    "class BNRelu(Model):\n",
    "    def __init__(self):\n",
    "        super(BNRelu,self).__init__()\n",
    "        self.bn = BatchNormalization(momentum=0.9)\n",
    "        self.relu = Activation('relu')\n",
    "    def call(self,inputs):\n",
    "        x = self.bn(inputs)\n",
    "        outputs = self.relu(x)\n",
    "        return outputs"
   ]
  },
  {
   "cell_type": "code",
   "execution_count": null,
   "metadata": {},
   "outputs": [],
   "source": [
    "class ConvBNRelu(Model):\n",
    "    def __init__(self,channels,kernel_size,strides,padding):\n",
    "        super(ConvBNRelu,self).__init__()\n",
    "        self.c = Conv2D(filters=channels, kernel_size=kernel_size,strides=strides, padding=padding,use_bias=False,\n",
    "                                kernel_initializer=\"he_normal\",kernel_regularizer=tf.keras.regularizers.l2(REGULARIZER))\n",
    "        self.b = BNRelu()                                                 \n",
    "    def call(self,inputs):\n",
    "        x = self.c(inputs)\n",
    "        outputs = self.b(x)\n",
    "        return outputs"
   ]
  },
  {
   "cell_type": "code",
   "execution_count": null,
   "metadata": {},
   "outputs": [],
   "source": [
    "class GroupConvBNRelu(Model):\n",
    "    def __init__(self,channels,kernel_size,cardinality,strides):\n",
    "        super(GroupConvBNRelu,self).__init__()\n",
    "        self.group = []\n",
    "        self.models = []\n",
    "        self.cardinality = cardinality\n",
    "        self.slice = channels//cardinality\n",
    "        for i in range(self.cardinality):\n",
    "            self.models.append(Conv2D(filters=self.slice, kernel_size=kernel_size, strides=strides, padding='same', use_bias=False,\n",
    "                               kernel_initializer=\"he_normal\",kernel_regularizer=tf.keras.regularizers.l2(REGULARIZER)))\n",
    "        self.b = BNRelu()   \n",
    "    def call(self,inputs):\n",
    "        self.group = []\n",
    "        for i in range(self.cardinality):\n",
    "            x = inputs[:,:,:, i*self.slice : (i+1)*self.slice]\n",
    "            self.group.append(self.models[i](x))\n",
    "        y = tf.concat(self.group,axis = -1)\n",
    "        outputs = self.b(y)        \n",
    "        return outputs"
   ]
  },
  {
   "cell_type": "code",
   "execution_count": null,
   "metadata": {},
   "outputs": [],
   "source": [
    "class DualPathBlock(Model):\n",
    "    def __init__(self,channels_top,channels_bottom,k,strides,increase):\n",
    "        super(DualPathBlock,self).__init__()\n",
    "        self.increase = increase\n",
    "        self.channels_bottom = channels_bottom\n",
    "        self.b1 = BNRelu()\n",
    "        self.c1 = ConvBNRelu(channels=channels_top, kernel_size=1, strides=1, padding='same')\n",
    "        self.c2 = GroupConvBNRelu(channels=channels_top, kernel_size=3, cardinality=32, strides=strides)\n",
    "        self.c3 = Conv2D(filters=channels_bottom + k, kernel_size=1, strides=1, padding='same',\n",
    "                         kernel_initializer=\"he_normal\",kernel_regularizer=tf.keras.regularizers.l2(REGULARIZER))\n",
    "        if self.increase:\n",
    "            self.c4 = Conv2D(filters=channels_bottom + k, kernel_size=1, strides=strides, padding='same', \n",
    "                             kernel_initializer=\"he_normal\",kernel_regularizer=tf.keras.regularizers.l2(REGULARIZER))\n",
    "    def call(self,inputs):\n",
    "        if isinstance(inputs, list):\n",
    "            res_path = inputs[0]\n",
    "            dense_path = inputs[1]\n",
    "            inputs = tf.concat(inputs, axis=-1)\n",
    "        x = self.b1(inputs)\n",
    "        x = self.c1(x)\n",
    "        x = self.c2(x)\n",
    "        x = self.c3(x)\n",
    "        y1 = x[:,:,:,:self.channels_bottom]\n",
    "        y2 = x[:,:,:,self.channels_bottom:]\n",
    "        if self.increase:\n",
    "            proj = self.c4(inputs)\n",
    "            res_path = proj[:,:,:,:self.channels_bottom]\n",
    "            dense_path = proj[:,:,:,self.channels_bottom:]\n",
    "        res_path = res_path + y1\n",
    "        dense_path = tf.concat([dense_path, y2], axis=-1)\n",
    "        return [res_path,dense_path]"
   ]
  },
  {
   "cell_type": "code",
   "execution_count": null,
   "metadata": {},
   "outputs": [],
   "source": [
    "class DRN92(Model):\n",
    "    def __init__(self,block_list):\n",
    "        super(DRN92,self).__init__()\n",
    "        self.channels_top = 96\n",
    "        self.channels_bottom = 256\n",
    "        self.increment = [16,32,24,128]\n",
    "        self.c1 = ConvBNRelu(channels=32, kernel_size=3, strides=1, padding='same')\n",
    "        self.blocks = []\n",
    "        self.layer_num = 0\n",
    "        for i in range(len(block_list)):\n",
    "            if i == 0:\n",
    "                self.blocks.append(DualPathBlock(channels_top=self.channels_top,channels_bottom=self.channels_bottom,\n",
    "                                                 k=self.increment[i],strides=1,increase=True))\n",
    "            else:\n",
    "                self.blocks.append(DualPathBlock(channels_top=self.channels_top,channels_bottom=self.channels_bottom,\n",
    "                                                 k=self.increment[i],strides=2,increase=True))\n",
    "            self.layer_num += 1\n",
    "            for _ in range(1,block_list[i]):\n",
    "                self.blocks.append(DualPathBlock(channels_top=self.channels_top,channels_bottom=self.channels_bottom,\n",
    "                                                 k=self.increment[i],strides=1,increase=False))\n",
    "                self.layer_num += 1\n",
    "            self.channels_top *= 2\n",
    "            self.channels_bottom *= 2\n",
    "        self.b1 = BNRelu()\n",
    "        self.p1 = GlobalMaxPool2D()\n",
    "        self.p2 = GlobalAveragePooling2D()\n",
    "        self.f1 = Dense(10,activation='softmax',kernel_initializer=\"he_normal\",\n",
    "                        kernel_regularizer=tf.keras.regularizers.l2(REGULARIZER))\n",
    "    def call(self,inputs):\n",
    "        x = self.c1(inputs)\n",
    "        for i in range(self.layer_num):\n",
    "            x = self.blocks[i](x)\n",
    "        x = tf.concat(x, axis= -1)\n",
    "        x = self.b1(x)\n",
    "        x1 = self.p1(x)\n",
    "        x2 = self.p2(x)\n",
    "        x = 0.5 * (x1 + x2)\n",
    "        y = self.f1(x)\n",
    "        return y"
   ]
  },
  {
   "cell_type": "code",
   "execution_count": null,
   "metadata": {
    "scrolled": true
   },
   "outputs": [],
   "source": [
    "model = DRN92([3,4,20,3])\n",
    "\n",
    "model.compile(optimizer=tf.keras.optimizers.SGD(learning_rate=lr, momentum=0.9, nesterov=True, clipnorm=2.),\n",
    "              loss=tf.keras.losses.CategoricalCrossentropy(label_smoothing=0.1),\n",
    "              metrics=['accuracy'])\n",
    "\n",
    "callbacks = [\n",
    "            tf.keras.callbacks.LearningRateScheduler(scheduler),  #学习率衰减表\n",
    "            #tf.keras.callbacks.ReduceLROnPlateau(monitor='val_accuracy', factor=0.1, min_lr=0.0001, patience=10, cooldown=0)\n",
    "            tf.keras.callbacks.ModelCheckpoint(     #模型保存\n",
    "                filepath = checkpoint_save_path,\n",
    "                save_weights_only = False,\n",
    "                monitor = 'val_accuracy',\n",
    "                save_best_only = True),\n",
    "#             tf.keras.callbacks.EarlyStopping(       #早停\n",
    "#                 monitor = 'val_accuracy',\n",
    "#                 patience=15, \n",
    "#                 baseline=None),\n",
    "            tf.keras.callbacks.TensorBoard(log_dir=log_dir, histogram_freq=1, write_graph=True, write_images=False)  #保存计算图\n",
    "]\n",
    "\n",
    "hist = model.fit(DataGenTrain.flow(x_train,y_train,batch_size=batch_size,shuffle=True),\n",
    "                 epochs=epochs,\n",
    "                 validation_data=(x_test,y_test),\n",
    "                 validation_freq=1,\n",
    "                 callbacks=callbacks)\n",
    "\n",
    "model.summary()"
   ]
  },
  {
   "cell_type": "code",
   "execution_count": null,
   "metadata": {},
   "outputs": [],
   "source": [
    "#结果可视化\n",
    "%matplotlib inline\n",
    "%config InlineBackend.figure_format = 'svg'\n",
    "plt.style.use({'figure.figsize':(6,4)})\n",
    "\n",
    "plt.plot(hist.history['loss'], label='loss')\n",
    "plt.plot(hist.history['val_loss'], label='val_loss')\n",
    "plt.legend()\n",
    "plt.show()\n",
    "plt.plot(hist.history['val_accuracy'], label='val_accuracy')\n",
    "plt.legend()\n",
    "plt.show()"
   ]
  },
  {
   "cell_type": "code",
   "execution_count": null,
   "metadata": {},
   "outputs": [],
   "source": [
    "#tensorboard可视化\n",
    "#!tensorboard --logdir=./Model/DRN92_logs\n",
    "#http://localhost:6006/"
   ]
  },
  {
   "cell_type": "code",
   "execution_count": null,
   "metadata": {},
   "outputs": [],
   "source": [
    "print('best result: {:.2f}%  ({}epochs)'.format(100*max(hist.history['val_accuracy']),1+hist.history['val_accuracy'].index(max(hist.history['val_accuracy']))))\n",
    "# best result: 95.78%  (96epoch)"
   ]
  }
 ],
 "metadata": {
  "kernelspec": {
   "display_name": "Python 3",
   "language": "python",
   "name": "python3"
  },
  "language_info": {
   "codemirror_mode": {
    "name": "ipython",
    "version": 3
   },
   "file_extension": ".py",
   "mimetype": "text/x-python",
   "name": "python",
   "nbconvert_exporter": "python",
   "pygments_lexer": "ipython3",
   "version": "3.7.6"
  }
 },
 "nbformat": 4,
 "nbformat_minor": 4
}
